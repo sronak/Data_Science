{
  "nbformat": 4,
  "nbformat_minor": 0,
  "metadata": {
    "colab": {
      "provenance": [],
      "authorship_tag": "ABX9TyN4NQpagGhQDH0FK5lb1Ss9",
      "include_colab_link": true
    },
    "kernelspec": {
      "name": "python3",
      "display_name": "Python 3"
    },
    "language_info": {
      "name": "python"
    }
  },
  "cells": [
    {
      "cell_type": "markdown",
      "metadata": {
        "id": "view-in-github",
        "colab_type": "text"
      },
      "source": [
        "<a href=\"https://colab.research.google.com/github/sronak/Data_Science/blob/main/Day44_NLP_text_processing.ipynb\" target=\"_parent\"><img src=\"https://colab.research.google.com/assets/colab-badge.svg\" alt=\"Open In Colab\"/></a>"
      ]
    },
    {
      "cell_type": "code",
      "source": [
        "import nltk\n",
        "from nltk import word_tokenize \n",
        "\n",
        "from nltk.corpus import reuters\n",
        "from nltk.tokenize import RegexpTokenizer"
      ],
      "metadata": {
        "id": "xPZL68qC4Yl_"
      },
      "execution_count": 45,
      "outputs": []
    },
    {
      "cell_type": "code",
      "source": [
        "nltk.download('punkt')"
      ],
      "metadata": {
        "colab": {
          "base_uri": "https://localhost:8080/"
        },
        "id": "jyWiXqqg4vr6",
        "outputId": "b7027ec0-226d-4de7-c8b0-37089dc45690"
      },
      "execution_count": 46,
      "outputs": [
        {
          "output_type": "stream",
          "name": "stderr",
          "text": [
            "[nltk_data] Downloading package punkt to /root/nltk_data...\n",
            "[nltk_data]   Package punkt is already up-to-date!\n"
          ]
        },
        {
          "output_type": "execute_result",
          "data": {
            "text/plain": [
              "True"
            ]
          },
          "metadata": {},
          "execution_count": 46
        }
      ]
    },
    {
      "cell_type": "code",
      "source": [
        "nltk.download('stopwords')"
      ],
      "metadata": {
        "colab": {
          "base_uri": "https://localhost:8080/"
        },
        "id": "xScIFWJd6Ry-",
        "outputId": "a36408b3-c472-4fc4-bd2d-a7c31b507145"
      },
      "execution_count": 47,
      "outputs": [
        {
          "output_type": "stream",
          "name": "stderr",
          "text": [
            "[nltk_data] Downloading package stopwords to /root/nltk_data...\n",
            "[nltk_data]   Package stopwords is already up-to-date!\n"
          ]
        },
        {
          "output_type": "execute_result",
          "data": {
            "text/plain": [
              "True"
            ]
          },
          "metadata": {},
          "execution_count": 47
        }
      ]
    },
    {
      "cell_type": "code",
      "source": [
        "f = open(\"demotext.txt\",\"r\")\n",
        "text = f.read()\n",
        "\n",
        "f.close()\n",
        "print(text)"
      ],
      "metadata": {
        "colab": {
          "base_uri": "https://localhost:8080/"
        },
        "id": "vqyDGqSQ6Yje",
        "outputId": "ef76d264-facf-4130-e09f-d320c1182007"
      },
      "execution_count": 48,
      "outputs": [
        {
          "output_type": "stream",
          "name": "stdout",
          "text": [
            "What is Lorem Ipsum?\n",
            "\n",
            "Lorem Ipsum is simply dummy text of the printing and \n",
            "typesetting industry. Lorem Ipsum has been the industry's \n",
            "standard dummy text ever since the 1500s, when an unknown \n",
            "printer took a galley of type and scrambled it to make a \n",
            "type specimen book. It has survived not only five centuries, \n",
            "but also the leap into electronic typesetting, \n",
            "remaining essentially unchanged. \n",
            "\n",
            "It was popularised in the 1960s with the release of Letraset \n",
            "sheets containing Lorem Ipsum passages, and more recently \n",
            "with desktop publishing software like Aldus PageMaker \n",
            "including versions of Lorem Ipsum.\n"
          ]
        }
      ]
    },
    {
      "cell_type": "code",
      "source": [
        "nltk_tokens = nltk.word_tokenize(text)\n",
        "print(nltk_tokens)"
      ],
      "metadata": {
        "colab": {
          "base_uri": "https://localhost:8080/"
        },
        "id": "MM19a-8J6hpx",
        "outputId": "7d84cbb2-aac4-4691-b678-b4d3b3c3fa54"
      },
      "execution_count": 50,
      "outputs": [
        {
          "output_type": "stream",
          "name": "stdout",
          "text": [
            "['What', 'is', 'Lorem', 'Ipsum', '?', 'Lorem', 'Ipsum', 'is', 'simply', 'dummy', 'text', 'of', 'the', 'printing', 'and', 'typesetting', 'industry', '.', 'Lorem', 'Ipsum', 'has', 'been', 'the', 'industry', \"'s\", 'standard', 'dummy', 'text', 'ever', 'since', 'the', '1500s', ',', 'when', 'an', 'unknown', 'printer', 'took', 'a', 'galley', 'of', 'type', 'and', 'scrambled', 'it', 'to', 'make', 'a', 'type', 'specimen', 'book', '.', 'It', 'has', 'survived', 'not', 'only', 'five', 'centuries', ',', 'but', 'also', 'the', 'leap', 'into', 'electronic', 'typesetting', ',', 'remaining', 'essentially', 'unchanged', '.', 'It', 'was', 'popularised', 'in', 'the', '1960s', 'with', 'the', 'release', 'of', 'Letraset', 'sheets', 'containing', 'Lorem', 'Ipsum', 'passages', ',', 'and', 'more', 'recently', 'with', 'desktop', 'publishing', 'software', 'like', 'Aldus', 'PageMaker', 'including', 'versions', 'of', 'Lorem', 'Ipsum', '.']\n"
          ]
        }
      ]
    },
    {
      "cell_type": "code",
      "source": [
        "nltk_tokens = set(w.lower() for w in nltk_tokens)\n",
        "nltk_tokens"
      ],
      "metadata": {
        "colab": {
          "base_uri": "https://localhost:8080/"
        },
        "id": "DBsj4xZc71Jt",
        "outputId": "0577440b-a570-48ba-97e8-17cfe88dd006"
      },
      "execution_count": 51,
      "outputs": [
        {
          "output_type": "execute_result",
          "data": {
            "text/plain": [
              "{\"'s\",\n",
              " ',',\n",
              " '.',\n",
              " '1500s',\n",
              " '1960s',\n",
              " '?',\n",
              " 'a',\n",
              " 'aldus',\n",
              " 'also',\n",
              " 'an',\n",
              " 'and',\n",
              " 'been',\n",
              " 'book',\n",
              " 'but',\n",
              " 'centuries',\n",
              " 'containing',\n",
              " 'desktop',\n",
              " 'dummy',\n",
              " 'electronic',\n",
              " 'essentially',\n",
              " 'ever',\n",
              " 'five',\n",
              " 'galley',\n",
              " 'has',\n",
              " 'in',\n",
              " 'including',\n",
              " 'industry',\n",
              " 'into',\n",
              " 'ipsum',\n",
              " 'is',\n",
              " 'it',\n",
              " 'leap',\n",
              " 'letraset',\n",
              " 'like',\n",
              " 'lorem',\n",
              " 'make',\n",
              " 'more',\n",
              " 'not',\n",
              " 'of',\n",
              " 'only',\n",
              " 'pagemaker',\n",
              " 'passages',\n",
              " 'popularised',\n",
              " 'printer',\n",
              " 'printing',\n",
              " 'publishing',\n",
              " 'recently',\n",
              " 'release',\n",
              " 'remaining',\n",
              " 'scrambled',\n",
              " 'sheets',\n",
              " 'simply',\n",
              " 'since',\n",
              " 'software',\n",
              " 'specimen',\n",
              " 'standard',\n",
              " 'survived',\n",
              " 'text',\n",
              " 'the',\n",
              " 'to',\n",
              " 'took',\n",
              " 'type',\n",
              " 'typesetting',\n",
              " 'unchanged',\n",
              " 'unknown',\n",
              " 'versions',\n",
              " 'was',\n",
              " 'what',\n",
              " 'when',\n",
              " 'with'}"
            ]
          },
          "metadata": {},
          "execution_count": 51
        }
      ]
    },
    {
      "cell_type": "code",
      "source": [
        "from nltk.corpus import stopwords\n",
        "stopwords = stopwords.words('english')\n",
        "\n",
        "print(stopwords)"
      ],
      "metadata": {
        "colab": {
          "base_uri": "https://localhost:8080/"
        },
        "id": "xzydldSk8I1o",
        "outputId": "c3033191-5847-4b04-85cc-ff986db07991"
      },
      "execution_count": 52,
      "outputs": [
        {
          "output_type": "stream",
          "name": "stdout",
          "text": [
            "['i', 'me', 'my', 'myself', 'we', 'our', 'ours', 'ourselves', 'you', \"you're\", \"you've\", \"you'll\", \"you'd\", 'your', 'yours', 'yourself', 'yourselves', 'he', 'him', 'his', 'himself', 'she', \"she's\", 'her', 'hers', 'herself', 'it', \"it's\", 'its', 'itself', 'they', 'them', 'their', 'theirs', 'themselves', 'what', 'which', 'who', 'whom', 'this', 'that', \"that'll\", 'these', 'those', 'am', 'is', 'are', 'was', 'were', 'be', 'been', 'being', 'have', 'has', 'had', 'having', 'do', 'does', 'did', 'doing', 'a', 'an', 'the', 'and', 'but', 'if', 'or', 'because', 'as', 'until', 'while', 'of', 'at', 'by', 'for', 'with', 'about', 'against', 'between', 'into', 'through', 'during', 'before', 'after', 'above', 'below', 'to', 'from', 'up', 'down', 'in', 'out', 'on', 'off', 'over', 'under', 'again', 'further', 'then', 'once', 'here', 'there', 'when', 'where', 'why', 'how', 'all', 'any', 'both', 'each', 'few', 'more', 'most', 'other', 'some', 'such', 'no', 'nor', 'not', 'only', 'own', 'same', 'so', 'than', 'too', 'very', 's', 't', 'can', 'will', 'just', 'don', \"don't\", 'should', \"should've\", 'now', 'd', 'll', 'm', 'o', 're', 've', 'y', 'ain', 'aren', \"aren't\", 'couldn', \"couldn't\", 'didn', \"didn't\", 'doesn', \"doesn't\", 'hadn', \"hadn't\", 'hasn', \"hasn't\", 'haven', \"haven't\", 'isn', \"isn't\", 'ma', 'mightn', \"mightn't\", 'mustn', \"mustn't\", 'needn', \"needn't\", 'shan', \"shan't\", 'shouldn', \"shouldn't\", 'wasn', \"wasn't\", 'weren', \"weren't\", 'won', \"won't\", 'wouldn', \"wouldn't\"]\n"
          ]
        }
      ]
    },
    {
      "cell_type": "code",
      "source": [
        "from nltk.corpus import stopwords"
      ],
      "metadata": {
        "id": "OxMdtsS68YXu"
      },
      "execution_count": 55,
      "outputs": []
    },
    {
      "cell_type": "code",
      "source": [
        "wordList = [w for w in nltk_tokens if w.lower() not in stopwords.words('english')]\n",
        "wordList"
      ],
      "metadata": {
        "colab": {
          "base_uri": "https://localhost:8080/"
        },
        "id": "8Dh6dM4u9BkK",
        "outputId": "7e66b68f-aae7-48cf-ee2d-de4a55853570"
      },
      "execution_count": 58,
      "outputs": [
        {
          "output_type": "execute_result",
          "data": {
            "text/plain": [
              "['scrambled',\n",
              " 'including',\n",
              " 'book',\n",
              " 'remaining',\n",
              " '1500s',\n",
              " 'type',\n",
              " 'five',\n",
              " 'letraset',\n",
              " 'unknown',\n",
              " '1960s',\n",
              " 'passages',\n",
              " 'typesetting',\n",
              " 'centuries',\n",
              " 'electronic',\n",
              " 'make',\n",
              " 'dummy',\n",
              " 'release',\n",
              " 'industry',\n",
              " '.',\n",
              " ',',\n",
              " 'printing',\n",
              " 'specimen',\n",
              " 'lorem',\n",
              " 'popularised',\n",
              " 'aldus',\n",
              " 'leap',\n",
              " 'since',\n",
              " 'took',\n",
              " 'printer',\n",
              " 'also',\n",
              " 'ever',\n",
              " 'unchanged',\n",
              " 'standard',\n",
              " 'galley',\n",
              " 'software',\n",
              " 'simply',\n",
              " 'text',\n",
              " 'essentially',\n",
              " 'survived',\n",
              " \"'s\",\n",
              " 'ipsum',\n",
              " 'sheets',\n",
              " 'desktop',\n",
              " 'publishing',\n",
              " 'like',\n",
              " 'recently',\n",
              " '?',\n",
              " 'pagemaker',\n",
              " 'versions',\n",
              " 'containing']"
            ]
          },
          "metadata": {},
          "execution_count": 58
        }
      ]
    },
    {
      "cell_type": "code",
      "source": [
        "tokenizer = RegexpTokenizer(r'\\w+')\n",
        "new_token = tokenizer.tokenize(text)\n",
        "new_token"
      ],
      "metadata": {
        "colab": {
          "base_uri": "https://localhost:8080/"
        },
        "id": "k95pN5RX8pIC",
        "outputId": "6f035c81-01b3-41e5-b8fb-a5d2bb4cf245"
      },
      "execution_count": 59,
      "outputs": [
        {
          "output_type": "execute_result",
          "data": {
            "text/plain": [
              "['What',\n",
              " 'is',\n",
              " 'Lorem',\n",
              " 'Ipsum',\n",
              " 'Lorem',\n",
              " 'Ipsum',\n",
              " 'is',\n",
              " 'simply',\n",
              " 'dummy',\n",
              " 'text',\n",
              " 'of',\n",
              " 'the',\n",
              " 'printing',\n",
              " 'and',\n",
              " 'typesetting',\n",
              " 'industry',\n",
              " 'Lorem',\n",
              " 'Ipsum',\n",
              " 'has',\n",
              " 'been',\n",
              " 'the',\n",
              " 'industry',\n",
              " 's',\n",
              " 'standard',\n",
              " 'dummy',\n",
              " 'text',\n",
              " 'ever',\n",
              " 'since',\n",
              " 'the',\n",
              " '1500s',\n",
              " 'when',\n",
              " 'an',\n",
              " 'unknown',\n",
              " 'printer',\n",
              " 'took',\n",
              " 'a',\n",
              " 'galley',\n",
              " 'of',\n",
              " 'type',\n",
              " 'and',\n",
              " 'scrambled',\n",
              " 'it',\n",
              " 'to',\n",
              " 'make',\n",
              " 'a',\n",
              " 'type',\n",
              " 'specimen',\n",
              " 'book',\n",
              " 'It',\n",
              " 'has',\n",
              " 'survived',\n",
              " 'not',\n",
              " 'only',\n",
              " 'five',\n",
              " 'centuries',\n",
              " 'but',\n",
              " 'also',\n",
              " 'the',\n",
              " 'leap',\n",
              " 'into',\n",
              " 'electronic',\n",
              " 'typesetting',\n",
              " 'remaining',\n",
              " 'essentially',\n",
              " 'unchanged',\n",
              " 'It',\n",
              " 'was',\n",
              " 'popularised',\n",
              " 'in',\n",
              " 'the',\n",
              " '1960s',\n",
              " 'with',\n",
              " 'the',\n",
              " 'release',\n",
              " 'of',\n",
              " 'Letraset',\n",
              " 'sheets',\n",
              " 'containing',\n",
              " 'Lorem',\n",
              " 'Ipsum',\n",
              " 'passages',\n",
              " 'and',\n",
              " 'more',\n",
              " 'recently',\n",
              " 'with',\n",
              " 'desktop',\n",
              " 'publishing',\n",
              " 'software',\n",
              " 'like',\n",
              " 'Aldus',\n",
              " 'PageMaker',\n",
              " 'including',\n",
              " 'versions',\n",
              " 'of',\n",
              " 'Lorem',\n",
              " 'Ipsum']"
            ]
          },
          "metadata": {},
          "execution_count": 59
        }
      ]
    },
    {
      "cell_type": "code",
      "source": [
        "bigrams = list(nltk.bigrams(nltk_tokens))\n",
        "bigrams"
      ],
      "metadata": {
        "colab": {
          "base_uri": "https://localhost:8080/"
        },
        "id": "ysDrNaPB9Wvn",
        "outputId": "972d73b3-e26e-4ba2-a054-22722273baab"
      },
      "execution_count": 60,
      "outputs": [
        {
          "output_type": "execute_result",
          "data": {
            "text/plain": [
              "[('scrambled', 'including'),\n",
              " ('including', 'book'),\n",
              " ('book', 'remaining'),\n",
              " ('remaining', '1500s'),\n",
              " ('1500s', 'type'),\n",
              " ('type', 'and'),\n",
              " ('and', 'five'),\n",
              " ('five', 'of'),\n",
              " ('of', 'letraset'),\n",
              " ('letraset', 'unknown'),\n",
              " ('unknown', 'was'),\n",
              " ('was', 'been'),\n",
              " ('been', '1960s'),\n",
              " ('1960s', 'is'),\n",
              " ('is', 'passages'),\n",
              " ('passages', 'what'),\n",
              " ('what', 'typesetting'),\n",
              " ('typesetting', 'a'),\n",
              " ('a', 'to'),\n",
              " ('to', 'centuries'),\n",
              " ('centuries', 'electronic'),\n",
              " ('electronic', 'make'),\n",
              " ('make', 'dummy'),\n",
              " ('dummy', 'only'),\n",
              " ('only', 'not'),\n",
              " ('not', 'release'),\n",
              " ('release', 'industry'),\n",
              " ('industry', '.'),\n",
              " ('.', ','),\n",
              " (',', 'printing'),\n",
              " ('printing', 'an'),\n",
              " ('an', 'specimen'),\n",
              " ('specimen', 'lorem'),\n",
              " ('lorem', 'popularised'),\n",
              " ('popularised', 'aldus'),\n",
              " ('aldus', 'but'),\n",
              " ('but', 'leap'),\n",
              " ('leap', 'since'),\n",
              " ('since', 'more'),\n",
              " ('more', 'took'),\n",
              " ('took', 'printer'),\n",
              " ('printer', 'also'),\n",
              " ('also', 'has'),\n",
              " ('has', 'it'),\n",
              " ('it', 'ever'),\n",
              " ('ever', 'unchanged'),\n",
              " ('unchanged', 'standard'),\n",
              " ('standard', 'the'),\n",
              " ('the', 'galley'),\n",
              " ('galley', 'software'),\n",
              " ('software', 'simply'),\n",
              " ('simply', 'text'),\n",
              " ('text', 'when'),\n",
              " ('when', 'essentially'),\n",
              " ('essentially', 'survived'),\n",
              " ('survived', \"'s\"),\n",
              " (\"'s\", 'ipsum'),\n",
              " ('ipsum', 'sheets'),\n",
              " ('sheets', 'into'),\n",
              " ('into', 'in'),\n",
              " ('in', 'desktop'),\n",
              " ('desktop', 'publishing'),\n",
              " ('publishing', 'like'),\n",
              " ('like', 'recently'),\n",
              " ('recently', 'with'),\n",
              " ('with', '?'),\n",
              " ('?', 'pagemaker'),\n",
              " ('pagemaker', 'versions'),\n",
              " ('versions', 'containing')]"
            ]
          },
          "metadata": {},
          "execution_count": 60
        }
      ]
    },
    {
      "cell_type": "code",
      "source": [
        "trigrams = list(nltk.trigrams(nltk_tokens))\n",
        "trigrams"
      ],
      "metadata": {
        "colab": {
          "base_uri": "https://localhost:8080/"
        },
        "id": "36FJxMoU9euq",
        "outputId": "91b4f75d-dc16-49e4-f51a-e64d9ebda23b"
      },
      "execution_count": 61,
      "outputs": [
        {
          "output_type": "execute_result",
          "data": {
            "text/plain": [
              "[('scrambled', 'including', 'book'),\n",
              " ('including', 'book', 'remaining'),\n",
              " ('book', 'remaining', '1500s'),\n",
              " ('remaining', '1500s', 'type'),\n",
              " ('1500s', 'type', 'and'),\n",
              " ('type', 'and', 'five'),\n",
              " ('and', 'five', 'of'),\n",
              " ('five', 'of', 'letraset'),\n",
              " ('of', 'letraset', 'unknown'),\n",
              " ('letraset', 'unknown', 'was'),\n",
              " ('unknown', 'was', 'been'),\n",
              " ('was', 'been', '1960s'),\n",
              " ('been', '1960s', 'is'),\n",
              " ('1960s', 'is', 'passages'),\n",
              " ('is', 'passages', 'what'),\n",
              " ('passages', 'what', 'typesetting'),\n",
              " ('what', 'typesetting', 'a'),\n",
              " ('typesetting', 'a', 'to'),\n",
              " ('a', 'to', 'centuries'),\n",
              " ('to', 'centuries', 'electronic'),\n",
              " ('centuries', 'electronic', 'make'),\n",
              " ('electronic', 'make', 'dummy'),\n",
              " ('make', 'dummy', 'only'),\n",
              " ('dummy', 'only', 'not'),\n",
              " ('only', 'not', 'release'),\n",
              " ('not', 'release', 'industry'),\n",
              " ('release', 'industry', '.'),\n",
              " ('industry', '.', ','),\n",
              " ('.', ',', 'printing'),\n",
              " (',', 'printing', 'an'),\n",
              " ('printing', 'an', 'specimen'),\n",
              " ('an', 'specimen', 'lorem'),\n",
              " ('specimen', 'lorem', 'popularised'),\n",
              " ('lorem', 'popularised', 'aldus'),\n",
              " ('popularised', 'aldus', 'but'),\n",
              " ('aldus', 'but', 'leap'),\n",
              " ('but', 'leap', 'since'),\n",
              " ('leap', 'since', 'more'),\n",
              " ('since', 'more', 'took'),\n",
              " ('more', 'took', 'printer'),\n",
              " ('took', 'printer', 'also'),\n",
              " ('printer', 'also', 'has'),\n",
              " ('also', 'has', 'it'),\n",
              " ('has', 'it', 'ever'),\n",
              " ('it', 'ever', 'unchanged'),\n",
              " ('ever', 'unchanged', 'standard'),\n",
              " ('unchanged', 'standard', 'the'),\n",
              " ('standard', 'the', 'galley'),\n",
              " ('the', 'galley', 'software'),\n",
              " ('galley', 'software', 'simply'),\n",
              " ('software', 'simply', 'text'),\n",
              " ('simply', 'text', 'when'),\n",
              " ('text', 'when', 'essentially'),\n",
              " ('when', 'essentially', 'survived'),\n",
              " ('essentially', 'survived', \"'s\"),\n",
              " ('survived', \"'s\", 'ipsum'),\n",
              " (\"'s\", 'ipsum', 'sheets'),\n",
              " ('ipsum', 'sheets', 'into'),\n",
              " ('sheets', 'into', 'in'),\n",
              " ('into', 'in', 'desktop'),\n",
              " ('in', 'desktop', 'publishing'),\n",
              " ('desktop', 'publishing', 'like'),\n",
              " ('publishing', 'like', 'recently'),\n",
              " ('like', 'recently', 'with'),\n",
              " ('recently', 'with', '?'),\n",
              " ('with', '?', 'pagemaker'),\n",
              " ('?', 'pagemaker', 'versions'),\n",
              " ('pagemaker', 'versions', 'containing')]"
            ]
          },
          "metadata": {},
          "execution_count": 61
        }
      ]
    },
    {
      "cell_type": "code",
      "source": [],
      "metadata": {
        "id": "hAxFtmdJ9oFE"
      },
      "execution_count": null,
      "outputs": []
    }
  ]
}